{
 "cells": [
  {
   "cell_type": "markdown",
   "metadata": {},
   "source": [
    "# Developing an AI application\n",
    "\n",
    "Going forward, AI algorithms will be incorporated into more and more everyday applications. For example, you might want to include an image classifier in a smart phone app. To do this, you'd use a deep learning model trained on hundreds of thousands of images as part of the overall application architecture. A large part of software development in the future will be using these types of models as common parts of applications. \n",
    "\n",
    "In this project, you'll train an image classifier to recognize different species of flowers. You can imagine using something like this in a phone app that tells you the name of the flower your camera is looking at. In practice you'd train this classifier, then export it for use in your application. We'll be using [this dataset](http://www.robots.ox.ac.uk/~vgg/data/flowers/102/index.html) of 102 flower categories, you can see a few examples below. \n",
    "\n",
    "<img src='assets/Flowers.png' width=500px>\n",
    "\n",
    "The project is broken down into multiple steps:\n",
    "\n",
    "* Load and preprocess the image dataset\n",
    "* Train the image classifier on your dataset\n",
    "* Use the trained classifier to predict image content\n",
    "\n",
    "We'll lead you through each part which you'll implement in Python.\n",
    "\n",
    "When you've completed this project, you'll have an application that can be trained on any set of labeled images. Here your network will be learning about flowers and end up as a command line application. But, what you do with your new skills depends on your imagination and effort in building a dataset. For example, imagine an app where you take a picture of a car, it tells you what the make and model is, then looks up information about it. Go build your own dataset and make something new.\n",
    "\n",
    "First up is importing the packages you'll need. It's good practice to keep all the imports at the beginning of your code. As you work through this notebook and find you need to import a package, make sure to add the import up here."
   ]
  },
  {
   "cell_type": "code",
   "execution_count": 1,
   "metadata": {},
   "outputs": [],
   "source": [
    "# Imports here\n",
    "import numpy as np\n",
    "import matplotlib.pyplot as plt\n",
    "from matplotlib.ticker import FormatStrFormatter\n",
    "import torch\n",
    "from torch import nn\n",
    "from torch import optim\n",
    "import torch.nn.functional as F\n",
    "from torchvision import datasets, transforms, models\n",
    "from collections import OrderedDict\n",
    "from PIL import Image"
   ]
  },
  {
   "cell_type": "code",
   "execution_count": 2,
   "metadata": {},
   "outputs": [],
   "source": [
    "import signal\n",
    "\n",
    "from contextlib import contextmanager\n",
    "\n",
    "import requests\n",
    "\n",
    "\n",
    "DELAY = INTERVAL = 4 * 60  # interval time in seconds\n",
    "MIN_DELAY = MIN_INTERVAL = 2 * 60\n",
    "KEEPALIVE_URL = \"https://nebula.udacity.com/api/v1/remote/keep-alive\"\n",
    "TOKEN_URL = \"http://metadata.google.internal/computeMetadata/v1/instance/attributes/keep_alive_token\"\n",
    "TOKEN_HEADERS = {\"Metadata-Flavor\":\"Google\"}\n",
    "\n",
    "\n",
    "def _request_handler(headers):\n",
    "    def _handler(signum, frame):\n",
    "        requests.request(\"POST\", KEEPALIVE_URL, headers=headers)\n",
    "    return _handler\n",
    "\n",
    "\n",
    "@contextmanager\n",
    "def active_session(delay=DELAY, interval=INTERVAL):\n",
    "    \"\"\"\n",
    "    Example:\n",
    "\n",
    "    from workspace_utils import active session\n",
    "\n",
    "    with active_session():\n",
    "        # do long-running work here\n",
    "    \"\"\"\n",
    "    token = requests.request(\"GET\", TOKEN_URL, headers=TOKEN_HEADERS).text\n",
    "    headers = {'Authorization': \"STAR \" + token}\n",
    "    delay = max(delay, MIN_DELAY)\n",
    "    interval = max(interval, MIN_INTERVAL)\n",
    "    original_handler = signal.getsignal(signal.SIGALRM)\n",
    "    try:\n",
    "        signal.signal(signal.SIGALRM, _request_handler(headers))\n",
    "        signal.setitimer(signal.ITIMER_REAL, delay, interval)\n",
    "        yield\n",
    "    finally:\n",
    "        signal.signal(signal.SIGALRM, original_handler)\n",
    "        signal.setitimer(signal.ITIMER_REAL, 0)\n",
    "\n",
    "\n",
    "def keep_awake(iterable, delay=DELAY, interval=INTERVAL):\n",
    "    \"\"\"\n",
    "    Example:\n",
    "\n",
    "    from workspace_utils import keep_awake\n",
    "\n",
    "    for i in keep_awake(range(5)):\n",
    "        # do iteration with lots of work here\n",
    "    \"\"\"\n",
    "    with active_session(delay, interval): yield from iterable"
   ]
  },
  {
   "cell_type": "markdown",
   "metadata": {},
   "source": [
    "## Load the data\n",
    "\n",
    "Here you'll use `torchvision` to load the data ([documentation](http://pytorch.org/docs/0.3.0/torchvision/index.html)). The data should be included alongside this notebook, otherwise you can [download it here](https://s3.amazonaws.com/content.udacity-data.com/nd089/flower_data.tar.gz). The dataset is split into three parts, training, validation, and testing. For the training, you'll want to apply transformations such as random scaling, cropping, and flipping. This will help the network generalize leading to better performance. You'll also need to make sure the input data is resized to 224x224 pixels as required by the pre-trained networks.\n",
    "\n",
    "The validation and testing sets are used to measure the model's performance on data it hasn't seen yet. For this you don't want any scaling or rotation transformations, but you'll need to resize then crop the images to the appropriate size.\n",
    "\n",
    "The pre-trained networks you'll use were trained on the ImageNet dataset where each color channel was normalized separately. For all three sets you'll need to normalize the means and standard deviations of the images to what the network expects. For the means, it's `[0.485, 0.456, 0.406]` and for the standard deviations `[0.229, 0.224, 0.225]`, calculated from the ImageNet images.  These values will shift each color channel to be centered at 0 and range from -1 to 1.\n",
    " "
   ]
  },
  {
   "cell_type": "code",
   "execution_count": 3,
   "metadata": {},
   "outputs": [],
   "source": [
    "data_dir = 'flowers'\n",
    "train_dir = data_dir + '/train'\n",
    "valid_dir = data_dir + '/valid'\n",
    "test_dir = data_dir + '/test'"
   ]
  },
  {
   "cell_type": "code",
   "execution_count": 4,
   "metadata": {},
   "outputs": [],
   "source": [
    "# TODO: Define your transforms for the training, validation, and testing sets\n",
    "train_transforms = transforms.Compose([\n",
    "                                    transforms.RandomRotation(30),\n",
    "                                    transforms.RandomResizedCrop(224),\n",
    "                                    transforms.RandomHorizontalFlip(),\n",
    "                                    transforms.ToTensor(),\n",
    "                                    transforms.Normalize([0.485, 0.456, 0.406],\n",
    "                                                         [0.229, 0.224, 0.225])\n",
    "                                    ])\n",
    "\n",
    "\n",
    "\n",
    "valid_transforms = transforms.Compose([\n",
    "                                    transforms.Resize(225),\n",
    "                                    transforms.CenterCrop(224),\n",
    "                                    transforms.ToTensor(),\n",
    "                                    transforms.Normalize([0.485, 0.456, 0.406],\n",
    "                                                         [0.229, 0.224, 0.225])\n",
    "                                    ])\n",
    "\n",
    "\n",
    "\n",
    "test_transforms = transforms.Compose([\n",
    "                                    transforms.Resize(255),\n",
    "                                    transforms.CenterCrop(224),\n",
    "                                    transforms.ToTensor(),\n",
    "                                    transforms.Normalize([0.485, 0.456, 0.406],\n",
    "                                                         [0.229, 0.224, 0.225])\n",
    "                                    ])\n",
    "\n",
    "\n",
    "\n",
    "# TODO: Load the datasets with ImageFolder\n",
    "train_data = datasets.ImageFolder(train_dir, transform=train_transforms)\n",
    "valid_data = datasets.ImageFolder(valid_dir, transform=valid_transforms)\n",
    "test_data = datasets.ImageFolder(test_dir, transform=test_transforms)\n",
    "\n",
    "# TODO: Using the image datasets and the trainforms, define the dataloaders\n",
    "trainloader = torch.utils.data.DataLoader(train_data, batch_size=150, shuffle=True)\n",
    "vloader = torch.utils.data.DataLoader(valid_data, batch_size=50, shuffle=True)\n",
    "testloader = torch.utils.data.DataLoader(test_data, batch_size=50, shuffle=True)\n"
   ]
  },
  {
   "cell_type": "markdown",
   "metadata": {},
   "source": [
    "### Label mapping\n",
    "\n",
    "You'll also need to load in a mapping from category label to category name. You can find this in the file `cat_to_name.json`. It's a JSON object which you can read in with the [`json` module](https://docs.python.org/2/library/json.html). This will give you a dictionary mapping the integer encoded categories to the actual names of the flowers."
   ]
  },
  {
   "cell_type": "code",
   "execution_count": 5,
   "metadata": {},
   "outputs": [],
   "source": [
    "import json\n",
    "\n",
    "with open('cat_to_name.json', 'r') as f:\n",
    "    cat_to_name = json.load(f)"
   ]
  },
  {
   "cell_type": "markdown",
   "metadata": {},
   "source": [
    "# Building and training the classifier\n",
    "\n",
    "Now that the data is ready, it's time to build and train the classifier. As usual, you should use one of the pretrained models from `torchvision.models` to get the image features. Build and train a new feed-forward classifier using those features.\n",
    "\n",
    "We're going to leave this part up to you. Refer to [the rubric](https://review.udacity.com/#!/rubrics/1663/view) for guidance on successfully completing this section. Things you'll need to do:\n",
    "\n",
    "* Load a [pre-trained network](http://pytorch.org/docs/master/torchvision/models.html) (If you need a starting point, the VGG networks work great and are straightforward to use)\n",
    "* Define a new, untrained feed-forward network as a classifier, using ReLU activations and dropout\n",
    "* Train the classifier layers using backpropagation using the pre-trained network to get the features\n",
    "* Track the loss and accuracy on the validation set to determine the best hyperparameters\n",
    "\n",
    "We've left a cell open for you below, but use as many as you need. Our advice is to break the problem up into smaller parts you can run separately. Check that each part is doing what you expect, then move on to the next. You'll likely find that as you work through each part, you'll need to go back and modify your previous code. This is totally normal!\n",
    "\n",
    "When training make sure you're updating only the weights of the feed-forward network. You should be able to get the validation accuracy above 70% if you build everything right. Make sure to try different hyperparameters (learning rate, units in the classifier, epochs, etc) to find the best model. Save those hyperparameters to use as default values in the next part of the project.\n",
    "\n",
    "One last important tip if you're using the workspace to run your code: To avoid having your workspace disconnect during the long-running tasks in this notebook, please read in the earlier page in this lesson called Intro to\n",
    "GPU Workspaces about Keeping Your Session Active. You'll want to include code from the workspace_utils.py module.\n",
    "\n",
    "**Note for Workspace users:** If your network is over 1 GB when saved as a checkpoint, there might be issues with saving backups in your workspace. Typically this happens with wide dense layers after the convolutional layers. If your saved checkpoint is larger than 1 GB (you can open a terminal and check with `ls -lh`), you should reduce the size of your hidden layers and train again."
   ]
  },
  {
   "cell_type": "code",
   "execution_count": 35,
   "metadata": {},
   "outputs": [],
   "source": [
    "# TODO: Build and train your network\n",
    "\n",
    "\n",
    "def  model_select(model_name, dropout, hidden_layer1):\n",
    "    model_dict = {'alexnet' : 9216, \"vgg16\":25088, 'vgg13':25088, \"densenet121\" : 1024}\n",
    "    if model_name not in model_dict:\n",
    "        print('Please input one of the following \\n{}'.format(list(model_dict.keys())))\n",
    "    else:\n",
    "        if model_name == 'vgg16':\n",
    "            model = models.vgg16(pretrained=True)\n",
    "            \n",
    "        elif model_name == 'alexnet':\n",
    "            model = models.alexnet(pretrained=True)\n",
    "            \n",
    "        elif model_name == 'densenet121':\n",
    "            model = models.densenet121(pretrained=True)\n",
    "        \n",
    "        #freeze features\n",
    "        for param in model.parameters():\n",
    "            param.requires_grad = False\n",
    "        input_size = model_dict[model_name]\n",
    "        #create classifier\n",
    "        classifier = nn.Sequential(OrderedDict([\n",
    "            ('dropout', nn.Dropout(dropout)),\n",
    "            ('fc1', nn.Linear(input_size, hidden_layer1)),\n",
    "            ('relu1', nn.ReLU()),\n",
    "            ('fc2', nn.Linear(hidden_layer1, 500)),\n",
    "            ('relu2', nn.ReLU()),\n",
    "            ('dropout', nn.Dropout(dropout)),\n",
    "            ('fc3', nn.Linear(500, 102)),\n",
    "            ('output', nn.LogSoftmax(dim=1))\n",
    "        ]))\n",
    "    \n",
    "        model.classifier = classifier\n",
    "        \n",
    "        return model\n",
    "    \n",
    "\n",
    "          \n",
    "def model_classifier_optimizer(learning_rate, model):\n",
    "    \n",
    "    optimizer = optim.Adam(model.classifier.parameters(), learning_rate)\n",
    "    \n",
    "    return optimizer\n",
    "\n",
    "#train the model\n",
    "\n",
    "def train_model(epochs, print_every, trainloader, vloader, optimizer):\n",
    "\n",
    "    steps = 0\n",
    "    criterion = nn.NLLLoss()\n",
    "\n",
    "    #select device\n",
    "    device = torch.device(\"cuda:0\" if torch.cuda.is_available() else \"cpu\")\n",
    "\n",
    "    #model to divice\n",
    "    model.to(device)\n",
    "\n",
    "    for e in range(epochs):\n",
    "        running_loss = 0\n",
    "        for inputs, labels in trainloader:\n",
    "            model.train()\n",
    "            steps += 1\n",
    "\n",
    "            # Move input and label tensors to the device\n",
    "            inputs, labels = inputs.to(device), labels.to(device)\n",
    "\n",
    "            outputs = model.forward(inputs)\n",
    "            loss = criterion(outputs, labels)\n",
    "            loss.backward()\n",
    "            optimizer.step()\n",
    "\n",
    "            running_loss += loss.item()\n",
    "\n",
    "            if steps % print_every == 0:\n",
    "                model.eval()\n",
    "                vlost = 0\n",
    "                accuracy = 0\n",
    "\n",
    "            \n",
    "                for v_inputs,v_labels in vloader:\n",
    "                    optimizer.zero_grad()\n",
    "                    v_inputs, v_labels = v_inputs.to(device) , v_labels.to(device)\n",
    "                    model.to(device)\n",
    "\n",
    "                    with torch.no_grad():    \n",
    "                        outputs = model.forward(v_inputs)\n",
    "                        vlost = criterion(outputs,v_labels)\n",
    "                        ps = torch.exp(outputs).data\n",
    "                        equality = (v_labels.data == ps.max(1)[1])\n",
    "                        accuracy += equality.type_as(torch.FloatTensor()).mean()\n",
    "\n",
    "                vlost = vlost / len(vloader)\n",
    "                accuracy = accuracy /len(vloader)\n",
    "\n",
    "                    \n",
    "            \n",
    "                print(\"Epoch: {}/{}... \".format(e+1, epochs),\n",
    "                      \"Loss: {:.4f}\".format(running_loss/print_every),\n",
    "                      \"Validation Loss {:.4f}\".format(vlost),\n",
    "                       \"Accuracy: {:.2f}\".format(accuracy))\n",
    "\n",
    "\n",
    "                running_loss = 0\n",
    "\n"
   ]
  },
  {
   "cell_type": "code",
   "execution_count": 36,
   "metadata": {},
   "outputs": [],
   "source": [
    "model_name = 'vgg16'\n",
    "hidden_lyr1 = 1024\n",
    "dropout = 0.5\n",
    "epochs = 9\n",
    "lr = 0.001\n",
    "print_every = 5"
   ]
  },
  {
   "cell_type": "code",
   "execution_count": 8,
   "metadata": {},
   "outputs": [
    {
     "name": "stderr",
     "output_type": "stream",
     "text": [
      "Downloading: \"https://download.pytorch.org/models/vgg16-397923af.pth\" to /root/.torch/models/vgg16-397923af.pth\n",
      "100%|██████████| 553433881/553433881 [00:05<00:00, 95878035.38it/s] \n"
     ]
    }
   ],
   "source": [
    "model = model_select(model_name = model_name, dropout=dropout, hidden_layer1=hidden_lyr1)\n",
    "optimizer = model_classifier_optimizer(learning_rate=lr, model=model)"
   ]
  },
  {
   "cell_type": "code",
   "execution_count": 9,
   "metadata": {},
   "outputs": [
    {
     "name": "stdout",
     "output_type": "stream",
     "text": [
      "Epoch: 1/9...  Loss: 4.5635 Validation Loss 0.2825 Accuracy: 0.09\n",
      "Epoch: 1/9...  Loss: 4.1438 Validation Loss 0.2351 Accuracy: 0.20\n",
      "Epoch: 1/9...  Loss: 3.6676 Validation Loss 0.2103 Accuracy: 0.25\n",
      "Epoch: 1/9...  Loss: 3.3319 Validation Loss 0.1795 Accuracy: 0.27\n",
      "Epoch: 1/9...  Loss: 3.2719 Validation Loss 0.1581 Accuracy: 0.32\n",
      "Epoch: 1/9...  Loss: 3.0007 Validation Loss 0.1299 Accuracy: 0.39\n",
      "Epoch: 1/9...  Loss: 2.8351 Validation Loss 0.1429 Accuracy: 0.43\n",
      "Epoch: 1/9...  Loss: 2.8872 Validation Loss 0.1216 Accuracy: 0.46\n",
      "Epoch: 2/9...  Loss: 0.5152 Validation Loss 0.1114 Accuracy: 0.38\n",
      "Epoch: 2/9...  Loss: 2.5328 Validation Loss 0.1225 Accuracy: 0.47\n",
      "Epoch: 2/9...  Loss: 2.5701 Validation Loss 0.1304 Accuracy: 0.42\n",
      "Epoch: 2/9...  Loss: 2.5608 Validation Loss 0.1446 Accuracy: 0.46\n",
      "Epoch: 2/9...  Loss: 2.3546 Validation Loss 0.1391 Accuracy: 0.49\n",
      "Epoch: 2/9...  Loss: 2.3069 Validation Loss 0.1175 Accuracy: 0.51\n",
      "Epoch: 2/9...  Loss: 2.1211 Validation Loss 0.1179 Accuracy: 0.54\n",
      "Epoch: 2/9...  Loss: 1.9900 Validation Loss 0.1240 Accuracy: 0.60\n",
      "Epoch: 2/9...  Loss: 1.8500 Validation Loss 0.0696 Accuracy: 0.61\n",
      "Epoch: 3/9...  Loss: 0.6142 Validation Loss 0.0688 Accuracy: 0.66\n",
      "Epoch: 3/9...  Loss: 1.6512 Validation Loss 0.0864 Accuracy: 0.65\n",
      "Epoch: 3/9...  Loss: 1.6335 Validation Loss 0.0693 Accuracy: 0.66\n",
      "Epoch: 3/9...  Loss: 1.5324 Validation Loss 0.0408 Accuracy: 0.67\n",
      "Epoch: 3/9...  Loss: 1.5975 Validation Loss 0.0317 Accuracy: 0.69\n",
      "Epoch: 3/9...  Loss: 1.5711 Validation Loss 0.0593 Accuracy: 0.72\n",
      "Epoch: 3/9...  Loss: 1.5408 Validation Loss 0.0696 Accuracy: 0.69\n",
      "Epoch: 3/9...  Loss: 1.5131 Validation Loss 0.0575 Accuracy: 0.73\n",
      "Epoch: 3/9...  Loss: 1.3134 Validation Loss 0.0579 Accuracy: 0.70\n",
      "Epoch: 4/9...  Loss: 0.8112 Validation Loss 0.0685 Accuracy: 0.74\n",
      "Epoch: 4/9...  Loss: 1.2238 Validation Loss 0.0306 Accuracy: 0.75\n",
      "Epoch: 4/9...  Loss: 1.3102 Validation Loss 0.0568 Accuracy: 0.73\n",
      "Epoch: 4/9...  Loss: 1.2947 Validation Loss 0.0289 Accuracy: 0.73\n",
      "Epoch: 4/9...  Loss: 1.2641 Validation Loss 0.0582 Accuracy: 0.73\n",
      "Epoch: 4/9...  Loss: 1.1499 Validation Loss 0.0334 Accuracy: 0.74\n",
      "Epoch: 4/9...  Loss: 1.2727 Validation Loss 0.0590 Accuracy: 0.74\n",
      "Epoch: 4/9...  Loss: 1.2695 Validation Loss 0.0771 Accuracy: 0.78\n",
      "Epoch: 4/9...  Loss: 1.2416 Validation Loss 0.0099 Accuracy: 0.79\n",
      "Epoch: 5/9...  Loss: 0.8077 Validation Loss 0.0287 Accuracy: 0.81\n",
      "Epoch: 5/9...  Loss: 0.9337 Validation Loss 0.0108 Accuracy: 0.82\n",
      "Epoch: 5/9...  Loss: 0.9453 Validation Loss 0.0518 Accuracy: 0.78\n",
      "Epoch: 5/9...  Loss: 1.1604 Validation Loss 0.0149 Accuracy: 0.82\n",
      "Epoch: 5/9...  Loss: 1.0096 Validation Loss 0.0892 Accuracy: 0.79\n",
      "Epoch: 5/9...  Loss: 1.0231 Validation Loss 0.0401 Accuracy: 0.78\n",
      "Epoch: 5/9...  Loss: 1.1250 Validation Loss 0.0424 Accuracy: 0.79\n",
      "Epoch: 5/9...  Loss: 1.0070 Validation Loss 0.0689 Accuracy: 0.78\n",
      "Epoch: 5/9...  Loss: 1.0709 Validation Loss 0.0421 Accuracy: 0.82\n",
      "Epoch: 6/9...  Loss: 1.0205 Validation Loss 0.0336 Accuracy: 0.83\n",
      "Epoch: 6/9...  Loss: 0.9882 Validation Loss 0.0295 Accuracy: 0.81\n",
      "Epoch: 6/9...  Loss: 0.9711 Validation Loss 0.0227 Accuracy: 0.81\n",
      "Epoch: 6/9...  Loss: 0.8813 Validation Loss 0.0171 Accuracy: 0.82\n",
      "Epoch: 6/9...  Loss: 0.9632 Validation Loss 0.0103 Accuracy: 0.82\n",
      "Epoch: 6/9...  Loss: 0.9351 Validation Loss 0.0112 Accuracy: 0.83\n",
      "Epoch: 6/9...  Loss: 0.9789 Validation Loss 0.0233 Accuracy: 0.84\n",
      "Epoch: 6/9...  Loss: 1.0637 Validation Loss 0.0315 Accuracy: 0.84\n",
      "Epoch: 7/9...  Loss: 0.1838 Validation Loss 0.0110 Accuracy: 0.83\n",
      "Epoch: 7/9...  Loss: 0.8619 Validation Loss 0.0140 Accuracy: 0.83\n",
      "Epoch: 7/9...  Loss: 0.9242 Validation Loss 0.0324 Accuracy: 0.82\n",
      "Epoch: 7/9...  Loss: 0.9287 Validation Loss 0.0319 Accuracy: 0.82\n",
      "Epoch: 7/9...  Loss: 0.8237 Validation Loss 0.0127 Accuracy: 0.84\n",
      "Epoch: 7/9...  Loss: 0.8514 Validation Loss 0.0600 Accuracy: 0.84\n",
      "Epoch: 7/9...  Loss: 0.9802 Validation Loss 0.0121 Accuracy: 0.84\n",
      "Epoch: 7/9...  Loss: 0.7741 Validation Loss 0.0909 Accuracy: 0.79\n",
      "Epoch: 7/9...  Loss: 0.9454 Validation Loss 0.0178 Accuracy: 0.84\n",
      "Epoch: 8/9...  Loss: 0.3570 Validation Loss 0.0240 Accuracy: 0.84\n",
      "Epoch: 8/9...  Loss: 1.0086 Validation Loss 0.0320 Accuracy: 0.81\n",
      "Epoch: 8/9...  Loss: 0.8635 Validation Loss 0.0538 Accuracy: 0.82\n",
      "Epoch: 8/9...  Loss: 0.9353 Validation Loss 0.0070 Accuracy: 0.83\n",
      "Epoch: 8/9...  Loss: 0.8826 Validation Loss 0.1040 Accuracy: 0.85\n",
      "Epoch: 8/9...  Loss: 0.9004 Validation Loss 0.0316 Accuracy: 0.83\n",
      "Epoch: 8/9...  Loss: 0.8987 Validation Loss 0.0399 Accuracy: 0.83\n",
      "Epoch: 8/9...  Loss: 0.9256 Validation Loss 0.0450 Accuracy: 0.81\n",
      "Epoch: 8/9...  Loss: 0.8535 Validation Loss 0.0448 Accuracy: 0.83\n",
      "Epoch: 9/9...  Loss: 0.4702 Validation Loss 0.0129 Accuracy: 0.85\n",
      "Epoch: 9/9...  Loss: 0.8052 Validation Loss 0.0355 Accuracy: 0.86\n",
      "Epoch: 9/9...  Loss: 0.7140 Validation Loss 0.0101 Accuracy: 0.86\n",
      "Epoch: 9/9...  Loss: 0.7722 Validation Loss 0.0538 Accuracy: 0.84\n",
      "Epoch: 9/9...  Loss: 0.7851 Validation Loss 0.0205 Accuracy: 0.84\n",
      "Epoch: 9/9...  Loss: 0.6948 Validation Loss 0.0286 Accuracy: 0.85\n",
      "Epoch: 9/9...  Loss: 0.8295 Validation Loss 0.0228 Accuracy: 0.86\n",
      "Epoch: 9/9...  Loss: 0.8589 Validation Loss 0.0380 Accuracy: 0.85\n",
      "Epoch: 9/9...  Loss: 0.7195 Validation Loss 0.0184 Accuracy: 0.86\n"
     ]
    }
   ],
   "source": [
    "train_model(epochs, print_every=print_every, trainloader=trainloader, vloader=vloader, optimizer=optimizer)"
   ]
  },
  {
   "cell_type": "markdown",
   "metadata": {},
   "source": [
    "## Testing your network\n",
    "\n",
    "It's good practice to test your trained network on test data, images the network has never seen either in training or validation. This will give you a good estimate for the model's performance on completely new images. Run the test images through the network and measure the accuracy, the same way you did validation. You should be able to reach around 70% accuracy on the test set if the model has been trained well."
   ]
  },
  {
   "cell_type": "code",
   "execution_count": 10,
   "metadata": {},
   "outputs": [],
   "source": [
    "# TODO: Do validation on the test set\n",
    "\n",
    "def model_test(model, testloader):\n",
    "    model.eval()\n",
    "    correct_pred = 0\n",
    "    total_pred = 0\n",
    "    device = torch.device(\"cuda:0\" if torch.cuda.is_available() else \"cpu\")\n",
    "    model.to(device)\n",
    "    for inputs, labels in testloader:\n",
    "        # Move input and label tensors to the device\n",
    "        inputs, labels = inputs.to(device), labels.to(device)\n",
    "        probs = model(inputs)\n",
    "        max_probs, model_pred = torch.max(probs.data, 1)\n",
    "        correct_pred += (model_pred == labels).sum().item()\n",
    "        total_pred += inputs.size()[0]\n",
    "        \n",
    "    mod_perf = (correct_pred/total_pred)*100\n",
    "    \n",
    "    print('The model has an accuracy of {:.2f}'.format(mod_perf))\n",
    "        "
   ]
  },
  {
   "cell_type": "code",
   "execution_count": 61,
   "metadata": {},
   "outputs": [
    {
     "name": "stdout",
     "output_type": "stream",
     "text": [
      "The model has an accuracy of 85.10\n"
     ]
    }
   ],
   "source": [
    "model_test(model=model, testloader=testloader)"
   ]
  },
  {
   "cell_type": "markdown",
   "metadata": {},
   "source": [
    "## Save the checkpoint\n",
    "\n",
    "Now that your network is trained, save the model so you can load it later for making predictions. You probably want to save other things such as the mapping of classes to indices which you get from one of the image datasets: `image_datasets['train'].class_to_idx`. You can attach this to the model as an attribute which makes inference easier later on.\n",
    "\n",
    "```model.class_to_idx = image_datasets['train'].class_to_idx```\n",
    "\n",
    "Remember that you'll want to completely rebuild the model later so you can use it for inference. Make sure to include any information you need in the checkpoint. If you want to load the model and keep training, you'll want to save the number of epochs as well as the optimizer state, `optimizer.state_dict`. You'll likely want to use this trained model in the next part of the project, so best to save it now."
   ]
  },
  {
   "cell_type": "code",
   "execution_count": 13,
   "metadata": {},
   "outputs": [],
   "source": [
    "model.class_to_idx = train_data.class_to_idx"
   ]
  },
  {
   "cell_type": "code",
   "execution_count": 14,
   "metadata": {},
   "outputs": [],
   "source": [
    "\n",
    "model_unsaved = model"
   ]
  },
  {
   "cell_type": "code",
   "execution_count": 34,
   "metadata": {},
   "outputs": [
    {
     "data": {
      "text/plain": [
       "VGG(\n",
       "  (features): Sequential(\n",
       "    (0): Conv2d(3, 64, kernel_size=(3, 3), stride=(1, 1), padding=(1, 1))\n",
       "    (1): ReLU(inplace)\n",
       "    (2): Conv2d(64, 64, kernel_size=(3, 3), stride=(1, 1), padding=(1, 1))\n",
       "    (3): ReLU(inplace)\n",
       "    (4): MaxPool2d(kernel_size=2, stride=2, padding=0, dilation=1, ceil_mode=False)\n",
       "    (5): Conv2d(64, 128, kernel_size=(3, 3), stride=(1, 1), padding=(1, 1))\n",
       "    (6): ReLU(inplace)\n",
       "    (7): Conv2d(128, 128, kernel_size=(3, 3), stride=(1, 1), padding=(1, 1))\n",
       "    (8): ReLU(inplace)\n",
       "    (9): MaxPool2d(kernel_size=2, stride=2, padding=0, dilation=1, ceil_mode=False)\n",
       "    (10): Conv2d(128, 256, kernel_size=(3, 3), stride=(1, 1), padding=(1, 1))\n",
       "    (11): ReLU(inplace)\n",
       "    (12): Conv2d(256, 256, kernel_size=(3, 3), stride=(1, 1), padding=(1, 1))\n",
       "    (13): ReLU(inplace)\n",
       "    (14): Conv2d(256, 256, kernel_size=(3, 3), stride=(1, 1), padding=(1, 1))\n",
       "    (15): ReLU(inplace)\n",
       "    (16): MaxPool2d(kernel_size=2, stride=2, padding=0, dilation=1, ceil_mode=False)\n",
       "    (17): Conv2d(256, 512, kernel_size=(3, 3), stride=(1, 1), padding=(1, 1))\n",
       "    (18): ReLU(inplace)\n",
       "    (19): Conv2d(512, 512, kernel_size=(3, 3), stride=(1, 1), padding=(1, 1))\n",
       "    (20): ReLU(inplace)\n",
       "    (21): Conv2d(512, 512, kernel_size=(3, 3), stride=(1, 1), padding=(1, 1))\n",
       "    (22): ReLU(inplace)\n",
       "    (23): MaxPool2d(kernel_size=2, stride=2, padding=0, dilation=1, ceil_mode=False)\n",
       "    (24): Conv2d(512, 512, kernel_size=(3, 3), stride=(1, 1), padding=(1, 1))\n",
       "    (25): ReLU(inplace)\n",
       "    (26): Conv2d(512, 512, kernel_size=(3, 3), stride=(1, 1), padding=(1, 1))\n",
       "    (27): ReLU(inplace)\n",
       "    (28): Conv2d(512, 512, kernel_size=(3, 3), stride=(1, 1), padding=(1, 1))\n",
       "    (29): ReLU(inplace)\n",
       "    (30): MaxPool2d(kernel_size=2, stride=2, padding=0, dilation=1, ceil_mode=False)\n",
       "  )\n",
       "  (classifier): Sequential(\n",
       "    (dropout): Dropout(p=0.5)\n",
       "    (fc1): Linear(in_features=25088, out_features=1024, bias=True)\n",
       "    (relu1): ReLU()\n",
       "    (fc2): Linear(in_features=1024, out_features=500, bias=True)\n",
       "    (relu2): ReLU()\n",
       "    (fc3): Linear(in_features=500, out_features=102, bias=True)\n",
       "    (output): LogSoftmax()\n",
       "  )\n",
       ")"
      ]
     },
     "execution_count": 34,
     "metadata": {},
     "output_type": "execute_result"
    }
   ],
   "source": [
    "model_unsaved"
   ]
  },
  {
   "cell_type": "code",
   "execution_count": 19,
   "metadata": {},
   "outputs": [],
   "source": [
    "# TODO: Save the checkpoint \n",
    "\n",
    "#model.class_to_idx = train_data.class_to_idx\n",
    "def save_model(file_name, model, optimizer, model_params_dict):\n",
    "    model.cpu()\n",
    "    torch.save({'model_name' :model_params_dict['model_name'],\n",
    "                'hidden_lyr1':model_params_dict['hidden_lyr1'],\n",
    "                'epochs':model_params_dict['epochs'],\n",
    "                'dropout':model_params_dict['dropout'],\n",
    "                'learning_rate':model_params_dict['learning_rate'],\n",
    "                'state_dict':model.state_dict(),\n",
    "                'classifier' : model.classifier,\n",
    "                'optimizer':optimizer.state_dict(),\n",
    "                'class_to_idx':model.class_to_idx},\n",
    "                file_name)"
   ]
  },
  {
   "cell_type": "code",
   "execution_count": 37,
   "metadata": {},
   "outputs": [],
   "source": [
    "save_model(model=model_unsaved, optimizer=optimizer, file_name='checkpoint1.pth',model_params_dict={'learning_rate':lr, 'dropout': dropout, 'epochs':epochs, 'hidden_lyr1':hidden_lyr1, 'model_name':model_name} )"
   ]
  },
  {
   "cell_type": "markdown",
   "metadata": {},
   "source": [
    "## Loading the checkpoint\n",
    "\n",
    "At this point it's good to write a function that can load a checkpoint and rebuild the model. That way you can come back to this project and keep working on it without having to retrain the network."
   ]
  },
  {
   "cell_type": "code",
   "execution_count": 25,
   "metadata": {},
   "outputs": [],
   "source": [
    "# TODO: Write a function that loads a checkpoint and rebuilds the model\n",
    "\n",
    "def load_model(path):\n",
    "    checkpoint = torch.load(path)\n",
    "    model = getattr(models, checkpoint['model_name'])(pretrained=True)\n",
    "    model.classifier = checkpoint['classifier']\n",
    "    model.class_to_idx = checkpoint['class_to_idx']\n",
    "    model.load_state_dict = (checkpoint['state_dict'])\n",
    "    \n",
    "    \n",
    "    return model"
   ]
  },
  {
   "cell_type": "code",
   "execution_count": 38,
   "metadata": {},
   "outputs": [
    {
     "name": "stdout",
     "output_type": "stream",
     "text": [
      "VGG(\n",
      "  (features): Sequential(\n",
      "    (0): Conv2d(3, 64, kernel_size=(3, 3), stride=(1, 1), padding=(1, 1))\n",
      "    (1): ReLU(inplace)\n",
      "    (2): Conv2d(64, 64, kernel_size=(3, 3), stride=(1, 1), padding=(1, 1))\n",
      "    (3): ReLU(inplace)\n",
      "    (4): MaxPool2d(kernel_size=2, stride=2, padding=0, dilation=1, ceil_mode=False)\n",
      "    (5): Conv2d(64, 128, kernel_size=(3, 3), stride=(1, 1), padding=(1, 1))\n",
      "    (6): ReLU(inplace)\n",
      "    (7): Conv2d(128, 128, kernel_size=(3, 3), stride=(1, 1), padding=(1, 1))\n",
      "    (8): ReLU(inplace)\n",
      "    (9): MaxPool2d(kernel_size=2, stride=2, padding=0, dilation=1, ceil_mode=False)\n",
      "    (10): Conv2d(128, 256, kernel_size=(3, 3), stride=(1, 1), padding=(1, 1))\n",
      "    (11): ReLU(inplace)\n",
      "    (12): Conv2d(256, 256, kernel_size=(3, 3), stride=(1, 1), padding=(1, 1))\n",
      "    (13): ReLU(inplace)\n",
      "    (14): Conv2d(256, 256, kernel_size=(3, 3), stride=(1, 1), padding=(1, 1))\n",
      "    (15): ReLU(inplace)\n",
      "    (16): MaxPool2d(kernel_size=2, stride=2, padding=0, dilation=1, ceil_mode=False)\n",
      "    (17): Conv2d(256, 512, kernel_size=(3, 3), stride=(1, 1), padding=(1, 1))\n",
      "    (18): ReLU(inplace)\n",
      "    (19): Conv2d(512, 512, kernel_size=(3, 3), stride=(1, 1), padding=(1, 1))\n",
      "    (20): ReLU(inplace)\n",
      "    (21): Conv2d(512, 512, kernel_size=(3, 3), stride=(1, 1), padding=(1, 1))\n",
      "    (22): ReLU(inplace)\n",
      "    (23): MaxPool2d(kernel_size=2, stride=2, padding=0, dilation=1, ceil_mode=False)\n",
      "    (24): Conv2d(512, 512, kernel_size=(3, 3), stride=(1, 1), padding=(1, 1))\n",
      "    (25): ReLU(inplace)\n",
      "    (26): Conv2d(512, 512, kernel_size=(3, 3), stride=(1, 1), padding=(1, 1))\n",
      "    (27): ReLU(inplace)\n",
      "    (28): Conv2d(512, 512, kernel_size=(3, 3), stride=(1, 1), padding=(1, 1))\n",
      "    (29): ReLU(inplace)\n",
      "    (30): MaxPool2d(kernel_size=2, stride=2, padding=0, dilation=1, ceil_mode=False)\n",
      "  )\n",
      "  (classifier): Sequential(\n",
      "    (dropout): Dropout(p=0.5)\n",
      "    (fc1): Linear(in_features=25088, out_features=1024, bias=True)\n",
      "    (relu1): ReLU()\n",
      "    (fc2): Linear(in_features=1024, out_features=500, bias=True)\n",
      "    (relu2): ReLU()\n",
      "    (fc3): Linear(in_features=500, out_features=102, bias=True)\n",
      "    (output): LogSoftmax()\n",
      "  )\n",
      ")\n",
      "Adam (\n",
      "Parameter Group 0\n",
      "    amsgrad: False\n",
      "    betas: (0.9, 0.999)\n",
      "    eps: 1e-08\n",
      "    lr: 0.001\n",
      "    weight_decay: 0\n",
      ")\n"
     ]
    }
   ],
   "source": [
    "model, optimizer = load_model('checkpoint1.pth')  \n",
    "print(model)  "
   ]
  },
  {
   "cell_type": "markdown",
   "metadata": {},
   "source": [
    "# Inference for classification\n",
    "\n",
    "Now you'll write a function to use a trained network for inference. That is, you'll pass an image into the network and predict the class of the flower in the image. Write a function called `predict` that takes an image and a model, then returns the top $K$ most likely classes along with the probabilities. It should look like \n",
    "\n",
    "```python\n",
    "probs, classes = predict(image_path, model)\n",
    "print(probs)\n",
    "print(classes)\n",
    "> [ 0.01558163  0.01541934  0.01452626  0.01443549  0.01407339]\n",
    "> ['70', '3', '45', '62', '55']\n",
    "```\n",
    "\n",
    "First you'll need to handle processing the input image such that it can be used in your network. \n",
    "\n",
    "## Image Preprocessing\n",
    "\n",
    "You'll want to use `PIL` to load the image ([documentation](https://pillow.readthedocs.io/en/latest/reference/Image.html)). It's best to write a function that preprocesses the image so it can be used as input for the model. This function should process the images in the same manner used for training. \n",
    "\n",
    "First, resize the images where the shortest side is 256 pixels, keeping the aspect ratio. This can be done with the [`thumbnail`](http://pillow.readthedocs.io/en/3.1.x/reference/Image.html#PIL.Image.Image.thumbnail) or [`resize`](http://pillow.readthedocs.io/en/3.1.x/reference/Image.html#PIL.Image.Image.thumbnail) methods. Then you'll need to crop out the center 224x224 portion of the image.\n",
    "\n",
    "Color channels of images are typically encoded as integers 0-255, but the model expected floats 0-1. You'll need to convert the values. It's easiest with a Numpy array, which you can get from a PIL image like so `np_image = np.array(pil_image)`.\n",
    "\n",
    "As before, the network expects the images to be normalized in a specific way. For the means, it's `[0.485, 0.456, 0.406]` and for the standard deviations `[0.229, 0.224, 0.225]`. You'll want to subtract the means from each color channel, then divide by the standard deviation. \n",
    "\n",
    "And finally, PyTorch expects the color channel to be the first dimension but it's the third dimension in the PIL image and Numpy array. You can reorder dimensions using [`ndarray.transpose`](https://docs.scipy.org/doc/numpy-1.13.0/reference/generated/numpy.ndarray.transpose.html). The color channel needs to be first and retain the order of the other two dimensions."
   ]
  },
  {
   "cell_type": "code",
   "execution_count": 27,
   "metadata": {},
   "outputs": [],
   "source": [
    "def process_image(image):\n",
    "    ''' Scales, crops, and normalizes a PIL image for a PyTorch model,\n",
    "        returns an Numpy array\n",
    "    '''\n",
    "    pil_img = Image.open(image)\n",
    "    \n",
    "    img_transforms = transforms.Compose([\n",
    "        transforms.Resize(256),\n",
    "        transforms.CenterCrop(224),\n",
    "        transforms.ToTensor(),\n",
    "        transforms.Normalize([0.485, 0.456, 0.406], [0.229, 0.224, 0.225])\n",
    "    ])\n",
    "    \n",
    "    \n",
    "    return img_transforms(pil_img)\n",
    "\n"
   ]
  },
  {
   "cell_type": "code",
   "execution_count": 56,
   "metadata": {},
   "outputs": [
    {
     "name": "stdout",
     "output_type": "stream",
     "text": [
      "image shape >>>> torch.Size([3, 224, 224]) \n",
      "Image type >>>>> <class 'torch.Tensor'>\n"
     ]
    }
   ],
   "source": [
    "img_path = test_dir + '/8/image_03291.jpg'\n",
    "img = process_image(img_path)\n",
    "print('image shape >>>> {} \\nImage type >>>>> {}'.format(img.shape, type(img)))"
   ]
  },
  {
   "cell_type": "markdown",
   "metadata": {},
   "source": [
    "To check your work, the function below converts a PyTorch tensor and displays it in the notebook. If your `process_image` function works, running the output through this function should return the original image (except for the cropped out portions)."
   ]
  },
  {
   "cell_type": "code",
   "execution_count": 29,
   "metadata": {},
   "outputs": [],
   "source": [
    "def imshow(image, ax=None, title=None):\n",
    "    \"\"\"Imshow for Tensor.\"\"\"\n",
    "    if ax is None:\n",
    "        fig, ax = plt.subplots()\n",
    "    \n",
    "    # PyTorch tensors assume the color channel is the first dimension\n",
    "    # but matplotlib assumes is the third dimension\n",
    "    image = image.numpy().transpose((1, 2, 0))\n",
    "    \n",
    "    # Undo preprocessing\n",
    "    mean = np.array([0.485, 0.456, 0.406])\n",
    "    std = np.array([0.229, 0.224, 0.225])\n",
    "    image = std * image + mean\n",
    "    \n",
    "    # Image needs to be clipped between 0 and 1 or it looks like noise when displayed\n",
    "    image = np.clip(image, 0, 1)\n",
    "    \n",
    "    ax.imshow(image)\n",
    "    \n",
    "    return ax"
   ]
  },
  {
   "cell_type": "code",
   "execution_count": 57,
   "metadata": {},
   "outputs": [
    {
     "data": {
      "text/plain": [
       "<matplotlib.axes._subplots.AxesSubplot at 0x7f921877e320>"
      ]
     },
     "execution_count": 57,
     "metadata": {},
     "output_type": "execute_result"
    },
    {
     "data": {
      "image/png": "[encoded data removed]",
      "text/plain": [
       "<matplotlib.figure.Figure at 0x7f921a1493c8>"
      ]
     },
     "metadata": {
      "needs_background": "light"
     },
     "output_type": "display_data"
    }
   ],
   "source": [
    "imshow(process_image(img_path))"
   ]
  },
  {
   "cell_type": "markdown",
   "metadata": {},
   "source": [
    "## Class Prediction\n",
    "\n",
    "Once you can get images in the correct format, it's time to write a function for making predictions with your model. A common practice is to predict the top 5 or so (usually called top-$K$) most probable classes. You'll want to calculate the class probabilities then find the $K$ largest values.\n",
    "\n",
    "To get the top $K$ largest values in a tensor use [`x.topk(k)`](http://pytorch.org/docs/master/torch.html#torch.topk). This method returns both the highest `k` probabilities and the indices of those probabilities corresponding to the classes. You need to convert from these indices to the actual class labels using `class_to_idx` which hopefully you added to the model or from an `ImageFolder` you used to load the data ([see here](#Save-the-checkpoint)). Make sure to invert the dictionary so you get a mapping from index to class as well.\n",
    "\n",
    "Again, this method should take a path to an image and a model checkpoint, then return the probabilities and classes.\n",
    "\n",
    "```python\n",
    "probs, classes = predict(image_path, model)\n",
    "print(probs)\n",
    "print(classes)\n",
    "> [ 0.01558163  0.01541934  0.01452626  0.01443549  0.01407339]\n",
    "> ['70', '3', '45', '62', '55']\n",
    "```"
   ]
  },
  {
   "cell_type": "code",
   "execution_count": 31,
   "metadata": {},
   "outputs": [],
   "source": [
    "# TODO: Implement the code to predict the class from an image file\n",
    "\n",
    "def predict(img_path, model, device, topk=5):\n",
    "    ''' Predict the class (or classes) of an image using a trained deep learning model,\n",
    "    takes the path to the image(img_path), model(model) and the number of classes to predict(topk),\n",
    "    returns the probabilities that the predicted class is right and the predicted class\n",
    "    '''   \n",
    "    device = torch.device(\"cuda:0\" if torch.cuda.is_available() else \"cpu\")\n",
    "    img = process_image(img_path)\n",
    "    img = img.unsqueeze_(0)\n",
    "    img = img.float()\n",
    "    \n",
    "    #select device\n",
    "    if device == 'gpu':\n",
    "        device = torch.device('cuda')\n",
    "        \n",
    "    else:\n",
    "        device = torch.device('cpu')\n",
    "\n",
    "    \n",
    "    #send image to device\n",
    "    img = img.to(device)\n",
    "    model = model.to(device)\n",
    "    \n",
    "    with torch.no_grad():\n",
    "        output = model.forward(img)\n",
    "    probs = torch.exp(output).data\n",
    "    probs, classes = probs.topk(topk)\n",
    "    classes = classes.cpu()[0].tolist()\n",
    "    probs = probs.cpu().tolist()[0]\n",
    "    idx_to_class = {value: key for key, value in model.class_to_idx.items()}\n",
    "    # transfer index to label\n",
    "    label = [idx_to_class[i] for i in classes]\n",
    "    return probs, label"
   ]
  },
  {
   "cell_type": "code",
   "execution_count": 59,
   "metadata": {},
   "outputs": [
    {
     "name": "stdout",
     "output_type": "stream",
     "text": [
      "[0.9999890923500061, 1.0480623132025357e-05, 2.1598459909455414e-07, 9.365311370856944e-08, 6.415204722998169e-08]\n",
      "['8', '88', '17', '57', '61']\n",
      "['bird of paradise', 'cyclamen', 'purple coneflower', 'gaura', 'cautleya spicata']\n"
     ]
    }
   ],
   "source": [
    "probs, classes = predict(img_path, model, device='gpu')\n",
    "print(probs)\n",
    "print(classes)\n",
    "print([cat_to_name[x] for x in classes])"
   ]
  },
  {
   "cell_type": "markdown",
   "metadata": {},
   "source": [
    "## Sanity Checking\n",
    "\n",
    "Now that you can use a trained model for predictions, check to make sure it makes sense. Even if the testing accuracy is high, it's always good to check that there aren't obvious bugs. Use `matplotlib` to plot the probabilities for the top 5 classes as a bar graph, along with the input image. It should look like this:\n",
    "\n",
    "<img src='assets/inference_example.png' width=300px>\n",
    "\n",
    "You can convert from the class integer encoding to actual flower names with the `cat_to_name.json` file (should have been loaded earlier in the notebook). To show a PyTorch tensor as an image, use the `imshow` function defined above."
   ]
  },
  {
   "cell_type": "code",
   "execution_count": 55,
   "metadata": {},
   "outputs": [],
   "source": [
    "# TODO: Display an image along with the top 5 classes\n",
    "\n",
    "\n",
    "def check_sanity(img_path):\n",
    "    plt.rcParams[\"figure.figsize\"] = (10,5)\n",
    "    plt.subplot(211)\n",
    "    \n",
    "    index = 8\n",
    "\n",
    "    probs, classes = predict(img_path, model, device='gpu')\n",
    "    trans_img = process_image(img_path)\n",
    "    \n",
    "\n",
    "    axs = imshow(trans_img, ax = plt)\n",
    "    axs.axis('off')\n",
    "    axs.title(cat_to_name[str(index)])\n",
    "    axs.show()\n",
    "    \n",
    "    \n",
    "    \n",
    "    \n",
    "    fig, ax = plt.subplots(figsize=(8,2))\n",
    "\n",
    "    # Example data\n",
    "    y_pos = np.arange(len(classes))\n",
    "\n",
    "    ax.barh(y_pos, probs)\n",
    "    ax.set_yticks(y_pos)\n",
    "    ax.set_yticklabels([cat_to_name[x] for x in classes])\n",
    "    ax.invert_yaxis()  # labels read top-to-bottom\n",
    "    #ax.set_xticks(probs)\n",
    "   \n",
    "    \n",
    "\n",
    "    plt.show()\n",
    "    "
   ]
  },
  {
   "cell_type": "code",
   "execution_count": 60,
   "metadata": {
    "scrolled": true
   },
   "outputs": [
    {
     "data": {
      "image/png": "[encoded data removed]",
      "text/plain": [
       "<matplotlib.figure.Figure at 0x7f9215c27b38>"
      ]
     },
     "metadata": {
      "needs_background": "light"
     },
     "output_type": "display_data"
    },
    {
     "data": {
      "image/png": "[encoded data removed]",
      "text/plain": [
       "<matplotlib.figure.Figure at 0x7f92187964e0>"
      ]
     },
     "metadata": {
      "needs_background": "light"
     },
     "output_type": "display_data"
    }
   ],
   "source": [
    "check_sanity(img_path)"
   ]
  }
 ],
 "metadata": {
  "kernelspec": {
   "display_name": "Python 3",
   "language": "python",
   "name": "python3"
  },
  "language_info": {
   "codemirror_mode": {
    "name": "ipython",
    "version": 3
   },
   "file_extension": ".py",
   "mimetype": "text/x-python",
   "name": "python",
   "nbconvert_exporter": "python",
   "pygments_lexer": "ipython3",
   "version": "3.6.10"
  }
 },
 "nbformat": 4,
 "nbformat_minor": 2
}
